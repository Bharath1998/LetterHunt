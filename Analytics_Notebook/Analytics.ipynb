{
 "cells": [
  {
   "cell_type": "code",
   "execution_count": 2,
   "id": "universal-rescue",
   "metadata": {},
   "outputs": [],
   "source": [
    "import pandas as pd\n",
    "import numpy as np\n",
    "import matplotlib.pyplot as plt"
   ]
  },
  {
   "cell_type": "code",
   "execution_count": 3,
   "id": "connected-serial",
   "metadata": {},
   "outputs": [
    {
     "data": {
      "text/html": [
       "<div>\n",
       "<style scoped>\n",
       "    .dataframe tbody tr th:only-of-type {\n",
       "        vertical-align: middle;\n",
       "    }\n",
       "\n",
       "    .dataframe tbody tr th {\n",
       "        vertical-align: top;\n",
       "    }\n",
       "\n",
       "    .dataframe thead th {\n",
       "        text-align: right;\n",
       "    }\n",
       "</style>\n",
       "<table border=\"1\" class=\"dataframe\">\n",
       "  <thead>\n",
       "    <tr style=\"text-align: right;\">\n",
       "      <th></th>\n",
       "      <th>_id</th>\n",
       "      <th>correct_orange_letters</th>\n",
       "      <th>correct_purple_letters</th>\n",
       "      <th>correct_yellow_letters</th>\n",
       "      <th>enemies_killed</th>\n",
       "      <th>final_health</th>\n",
       "      <th>incorrect_orange_letters</th>\n",
       "      <th>incorrect_purple_letters</th>\n",
       "      <th>incorrect_yellow_letters</th>\n",
       "      <th>level</th>\n",
       "      <th>reason_end</th>\n",
       "      <th>time_remaining</th>\n",
       "      <th>total_bullets</th>\n",
       "    </tr>\n",
       "  </thead>\n",
       "  <tbody>\n",
       "    <tr>\n",
       "      <th>0</th>\n",
       "      <td>6358dba730bdff1d4f905ec8</td>\n",
       "      <td>2</td>\n",
       "      <td>2</td>\n",
       "      <td>3</td>\n",
       "      <td>3</td>\n",
       "      <td>10</td>\n",
       "      <td>0</td>\n",
       "      <td>2</td>\n",
       "      <td>2</td>\n",
       "      <td>2</td>\n",
       "      <td>SUCCESS</td>\n",
       "      <td>83</td>\n",
       "      <td>4</td>\n",
       "    </tr>\n",
       "    <tr>\n",
       "      <th>1</th>\n",
       "      <td>6358dc39c6ebe50c7834f1ba</td>\n",
       "      <td>2</td>\n",
       "      <td>1</td>\n",
       "      <td>2</td>\n",
       "      <td>6</td>\n",
       "      <td>15</td>\n",
       "      <td>1</td>\n",
       "      <td>2</td>\n",
       "      <td>2</td>\n",
       "      <td>1</td>\n",
       "      <td>SUCCESS</td>\n",
       "      <td>72</td>\n",
       "      <td>19</td>\n",
       "    </tr>\n",
       "    <tr>\n",
       "      <th>2</th>\n",
       "      <td>6358dcadb446149f05836e8b</td>\n",
       "      <td>2</td>\n",
       "      <td>1</td>\n",
       "      <td>2</td>\n",
       "      <td>0</td>\n",
       "      <td>15</td>\n",
       "      <td>2</td>\n",
       "      <td>2</td>\n",
       "      <td>3</td>\n",
       "      <td>1</td>\n",
       "      <td>SUCCESS</td>\n",
       "      <td>83</td>\n",
       "      <td>0</td>\n",
       "    </tr>\n",
       "    <tr>\n",
       "      <th>3</th>\n",
       "      <td>6358e0764604d65d2fa43571</td>\n",
       "      <td>2</td>\n",
       "      <td>1</td>\n",
       "      <td>2</td>\n",
       "      <td>4</td>\n",
       "      <td>20</td>\n",
       "      <td>0</td>\n",
       "      <td>2</td>\n",
       "      <td>2</td>\n",
       "      <td>1</td>\n",
       "      <td>SUCCESS</td>\n",
       "      <td>77</td>\n",
       "      <td>27</td>\n",
       "    </tr>\n",
       "    <tr>\n",
       "      <th>4</th>\n",
       "      <td>6358e0a5c440047c81537340</td>\n",
       "      <td>2</td>\n",
       "      <td>2</td>\n",
       "      <td>3</td>\n",
       "      <td>5</td>\n",
       "      <td>60</td>\n",
       "      <td>1</td>\n",
       "      <td>1</td>\n",
       "      <td>0</td>\n",
       "      <td>2</td>\n",
       "      <td>SUCCESS</td>\n",
       "      <td>90</td>\n",
       "      <td>17</td>\n",
       "    </tr>\n",
       "  </tbody>\n",
       "</table>\n",
       "</div>"
      ],
      "text/plain": [
       "                        _id  correct_orange_letters  correct_purple_letters  \\\n",
       "0  6358dba730bdff1d4f905ec8                       2                       2   \n",
       "1  6358dc39c6ebe50c7834f1ba                       2                       1   \n",
       "2  6358dcadb446149f05836e8b                       2                       1   \n",
       "3  6358e0764604d65d2fa43571                       2                       1   \n",
       "4  6358e0a5c440047c81537340                       2                       2   \n",
       "\n",
       "   correct_yellow_letters  enemies_killed  final_health  \\\n",
       "0                       3               3            10   \n",
       "1                       2               6            15   \n",
       "2                       2               0            15   \n",
       "3                       2               4            20   \n",
       "4                       3               5            60   \n",
       "\n",
       "   incorrect_orange_letters  incorrect_purple_letters  \\\n",
       "0                         0                         2   \n",
       "1                         1                         2   \n",
       "2                         2                         2   \n",
       "3                         0                         2   \n",
       "4                         1                         1   \n",
       "\n",
       "   incorrect_yellow_letters  level reason_end  time_remaining  total_bullets  \n",
       "0                         2      2    SUCCESS              83              4  \n",
       "1                         2      1    SUCCESS              72             19  \n",
       "2                         3      1    SUCCESS              83              0  \n",
       "3                         2      1    SUCCESS              77             27  \n",
       "4                         0      2    SUCCESS              90             17  "
      ]
     },
     "execution_count": 3,
     "metadata": {},
     "output_type": "execute_result"
    }
   ],
   "source": [
    "df=pd.read_csv(\"gameData_v6.csv\")\n",
    "df.head()"
   ]
  },
  {
   "cell_type": "code",
   "execution_count": 30,
   "id": "distinguished-prescription",
   "metadata": {},
   "outputs": [
    {
     "data": {
      "text/plain": [
       "<matplotlib.axes._subplots.AxesSubplot at 0x2232caa8208>"
      ]
     },
     "execution_count": 30,
     "metadata": {},
     "output_type": "execute_result"
    },
    {
     "data": {
      "image/png": "[encoded data removed]",
      "text/plain": [
       "<Figure size 432x288 with 1 Axes>"
      ]
     },
     "metadata": {
      "needs_background": "light"
     },
     "output_type": "display_data"
    }
   ],
   "source": [
    "df_counts=df.groupby([\"level\", \"reason_end\"])[[\"reason_end\"]].count()\n",
    "df_gb = df.groupby(['level', 'reason_end']).size().unstack(level=1)\n",
    "df_gb=df_gb.fillna(0)\n",
    "df_gb.plot(kind=\"bar\")"
   ]
  },
  {
   "cell_type": "code",
   "execution_count": 31,
   "id": "acute-caribbean",
   "metadata": {},
   "outputs": [
    {
     "data": {
      "text/html": [
       "<div>\n",
       "<style scoped>\n",
       "    .dataframe tbody tr th:only-of-type {\n",
       "        vertical-align: middle;\n",
       "    }\n",
       "\n",
       "    .dataframe tbody tr th {\n",
       "        vertical-align: top;\n",
       "    }\n",
       "\n",
       "    .dataframe thead th {\n",
       "        text-align: right;\n",
       "    }\n",
       "</style>\n",
       "<table border=\"1\" class=\"dataframe\">\n",
       "  <thead>\n",
       "    <tr style=\"text-align: right;\">\n",
       "      <th>reason_end</th>\n",
       "      <th>KILLED</th>\n",
       "      <th>SUCCESS</th>\n",
       "      <th>TIME_UP</th>\n",
       "    </tr>\n",
       "    <tr>\n",
       "      <th>level</th>\n",
       "      <th></th>\n",
       "      <th></th>\n",
       "      <th></th>\n",
       "    </tr>\n",
       "  </thead>\n",
       "  <tbody>\n",
       "    <tr>\n",
       "      <th>1</th>\n",
       "      <td>14.0</td>\n",
       "      <td>29.0</td>\n",
       "      <td>2.0</td>\n",
       "    </tr>\n",
       "    <tr>\n",
       "      <th>2</th>\n",
       "      <td>9.0</td>\n",
       "      <td>47.0</td>\n",
       "      <td>0.0</td>\n",
       "    </tr>\n",
       "  </tbody>\n",
       "</table>\n",
       "</div>"
      ],
      "text/plain": [
       "reason_end  KILLED  SUCCESS  TIME_UP\n",
       "level                               \n",
       "1             14.0     29.0      2.0\n",
       "2              9.0     47.0      0.0"
      ]
     },
     "execution_count": 31,
     "metadata": {},
     "output_type": "execute_result"
    }
   ],
   "source": [
    "df_gb"
   ]
  },
  {
   "cell_type": "code",
   "execution_count": 37,
   "id": "directed-passport",
   "metadata": {},
   "outputs": [],
   "source": [
    "df_gb[\"ATTEMPTS\"]=df_gb[\"KILLED\"]+df_gb[\"SUCCESS\"]+df_gb[\"TIME_UP\"]\n",
    "df_gb=df_gb.reset_index()"
   ]
  },
  {
   "cell_type": "code",
   "execution_count": 55,
   "id": "crazy-outreach",
   "metadata": {},
   "outputs": [
    {
     "data": {
      "text/html": [
       "<div>\n",
       "<style scoped>\n",
       "    .dataframe tbody tr th:only-of-type {\n",
       "        vertical-align: middle;\n",
       "    }\n",
       "\n",
       "    .dataframe tbody tr th {\n",
       "        vertical-align: top;\n",
       "    }\n",
       "\n",
       "    .dataframe thead th {\n",
       "        text-align: right;\n",
       "    }\n",
       "</style>\n",
       "<table border=\"1\" class=\"dataframe\">\n",
       "  <thead>\n",
       "    <tr style=\"text-align: right;\">\n",
       "      <th>reason_end</th>\n",
       "      <th>level</th>\n",
       "      <th>KILLED</th>\n",
       "      <th>SUCCESS</th>\n",
       "      <th>TIME_UP</th>\n",
       "      <th>ATTEMPTS</th>\n",
       "    </tr>\n",
       "  </thead>\n",
       "  <tbody>\n",
       "    <tr>\n",
       "      <th>0</th>\n",
       "      <td>1</td>\n",
       "      <td>14.0</td>\n",
       "      <td>29.0</td>\n",
       "      <td>2.0</td>\n",
       "      <td>45.0</td>\n",
       "    </tr>\n",
       "    <tr>\n",
       "      <th>1</th>\n",
       "      <td>2</td>\n",
       "      <td>9.0</td>\n",
       "      <td>47.0</td>\n",
       "      <td>0.0</td>\n",
       "      <td>56.0</td>\n",
       "    </tr>\n",
       "  </tbody>\n",
       "</table>\n",
       "</div>"
      ],
      "text/plain": [
       "reason_end  level  KILLED  SUCCESS  TIME_UP  ATTEMPTS\n",
       "0               1    14.0     29.0      2.0      45.0\n",
       "1               2     9.0     47.0      0.0      56.0"
      ]
     },
     "execution_count": 55,
     "metadata": {},
     "output_type": "execute_result"
    },
    {
     "data": {
      "image/png": "[encoded data removed]",
      "text/plain": [
       "<Figure size 432x288 with 1 Axes>"
      ]
     },
     "metadata": {
      "needs_background": "light"
     },
     "output_type": "display_data"
    }
   ],
   "source": [
    "df_gb[[\"SUCCESS\",\"ATTEMPTS\"]].plot(kind=\"bar\").set_xticklabels(df_gb.level)\n",
    "df_gb"
   ]
  },
  {
   "cell_type": "code",
   "execution_count": null,
   "id": "silent-denial",
   "metadata": {},
   "outputs": [],
   "source": []
  }
 ],
 "metadata": {
  "kernelspec": {
   "display_name": "Python 3",
   "language": "python",
   "name": "python3"
  },
  "language_info": {
   "codemirror_mode": {
    "name": "ipython",
    "version": 3
   },
   "file_extension": ".py",
   "mimetype": "text/x-python",
   "name": "python",
   "nbconvert_exporter": "python",
   "pygments_lexer": "ipython3",
   "version": "3.7.2"
  }
 },
 "nbformat": 4,
 "nbformat_minor": 5
}
